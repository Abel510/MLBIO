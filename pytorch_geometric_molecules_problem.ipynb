{
  "nbformat": 4,
  "nbformat_minor": 0,
  "metadata": {
    "colab": {
      "provenance": []
    },
    "kernelspec": {
      "name": "python3",
      "display_name": "Python 3"
    },
    "language_info": {
      "name": "python"
    }
  },
  "cells": [
    {
      "cell_type": "code",
      "metadata": {
        "colab": {
          "base_uri": "https://localhost:8080/"
        },
        "id": "f-5bYlDLL31Y",
        "outputId": "b86176d4-5acb-456f-daa9-eafbc90519aa"
      },
      "source": [
        "# Install rdkit\n",
        "!pip install rdkit-pypi"
      ],
      "execution_count": 1,
      "outputs": [
        {
          "output_type": "stream",
          "name": "stdout",
          "text": [
            "Collecting rdkit-pypi\n",
            "  Downloading rdkit_pypi-2022.9.5-cp310-cp310-manylinux_2_17_x86_64.manylinux2014_x86_64.whl.metadata (3.9 kB)\n",
            "Requirement already satisfied: numpy in /usr/local/lib/python3.10/dist-packages (from rdkit-pypi) (1.26.4)\n",
            "Requirement already satisfied: Pillow in /usr/local/lib/python3.10/dist-packages (from rdkit-pypi) (11.0.0)\n",
            "Downloading rdkit_pypi-2022.9.5-cp310-cp310-manylinux_2_17_x86_64.manylinux2014_x86_64.whl (29.4 MB)\n",
            "\u001b[2K   \u001b[90m━━━━━━━━━━━━━━━━━━━━━━━━━━━━━━━━━━━━━━━━\u001b[0m \u001b[32m29.4/29.4 MB\u001b[0m \u001b[31m14.1 MB/s\u001b[0m eta \u001b[36m0:00:00\u001b[0m\n",
            "\u001b[?25hInstalling collected packages: rdkit-pypi\n",
            "Successfully installed rdkit-pypi-2022.9.5\n"
          ]
        }
      ]
    },
    {
      "cell_type": "code",
      "metadata": {
        "colab": {
          "base_uri": "https://localhost:8080/"
        },
        "id": "dNG-WBkMMta_",
        "outputId": "fef9ba7b-a2e1-405f-8782-fa5e35f80337"
      },
      "source": [
        "# Install pytorch_geometric\n",
        "!pip install -q torch-scatter -f https://pytorch-geometric.com/whl/torch-1.9.0+cu102.html\n",
        "!pip install -q torch-sparse -f https://pytorch-geometric.com/whl/torch-1.9.0+cu102.html\n",
        "!pip install -q git+https://github.com/rusty1s/pytorch_geometric.git\n"
      ],
      "execution_count": 2,
      "outputs": [
        {
          "output_type": "stream",
          "name": "stdout",
          "text": [
            "\u001b[?25l     \u001b[90m━━━━━━━━━━━━━━━━━━━━━━━━━━━━━━━━━━━━━━━━\u001b[0m \u001b[32m0.0/108.0 kB\u001b[0m \u001b[31m?\u001b[0m eta \u001b[36m-:--:--\u001b[0m\r\u001b[2K     \u001b[90m━━━━━━━━━━━━━━━━━━━━━━━━━━━━━━━━━━━━━━━━\u001b[0m \u001b[32m108.0/108.0 kB\u001b[0m \u001b[31m3.6 MB/s\u001b[0m eta \u001b[36m0:00:00\u001b[0m\n",
            "\u001b[?25h  Preparing metadata (setup.py) ... \u001b[?25l\u001b[?25hdone\n",
            "  Building wheel for torch-scatter (setup.py) ... \u001b[?25l\u001b[?25hdone\n",
            "\u001b[2K     \u001b[90m━━━━━━━━━━━━━━━━━━━━━━━━━━━━━━━━━━━━━━━━\u001b[0m \u001b[32m210.0/210.0 kB\u001b[0m \u001b[31m7.8 MB/s\u001b[0m eta \u001b[36m0:00:00\u001b[0m\n",
            "\u001b[?25h  Preparing metadata (setup.py) ... \u001b[?25l\u001b[?25hdone\n",
            "  Building wheel for torch-sparse (setup.py) ... \u001b[?25l\u001b[?25hdone\n",
            "  Installing build dependencies ... \u001b[?25l\u001b[?25hdone\n",
            "  Getting requirements to build wheel ... \u001b[?25l\u001b[?25hdone\n",
            "  Preparing metadata (pyproject.toml) ... \u001b[?25l\u001b[?25hdone\n",
            "  Building wheel for torch-geometric (pyproject.toml) ... \u001b[?25l\u001b[?25hdone\n"
          ]
        }
      ]
    },
    {
      "cell_type": "code",
      "metadata": {
        "id": "sHrzuqi7Mj2O"
      },
      "source": [
        "import rdkit\n",
        "import torch_geometric"
      ],
      "execution_count": 3,
      "outputs": []
    },
    {
      "cell_type": "markdown",
      "metadata": {
        "id": "clynGmCNNrCF"
      },
      "source": [
        "# 1. Explore dataset in Pytorch_geometric\n",
        "\n",
        "\n",
        "To better understand molecule and graph, we will load and explore one of the molecule datasets that come from the pytorch_geometric library.\n",
        "\n",
        "1. Load the HIV dataset from the torch_geometric.datasets.MoleculeNet module.\n",
        "\n",
        "2. How many graphs are there in this dataset ? Print out the number of features and the number of classes for this dataset.\n",
        "\n",
        "3. Get the first graph in this dataset. Print out the number of nodes, the number of edges, the number of features and  the adjency matrix of this graph. This graph is undirected or not ?\n",
        "\n",
        "\n",
        "4. Draw this graph using networkx (it's already installed with pytorch_geometric) and torch_geometric.utils.to_networkx.\n",
        "\n",
        "\n",
        "5. (Optional) Get the SMILES string of this molecule and draw its structure with Rdkit. The structure of this molecule looks like the graph that you've drawn in 4. ?"
      ]
    },
    {
      "cell_type": "code",
      "metadata": {
        "id": "tzbY2RjgOQdo"
      },
      "source": [
        "!mkdir dataset"
      ],
      "execution_count": 4,
      "outputs": []
    },
    {
      "cell_type": "code",
      "source": [
        "from torch_geometric.datasets import MoleculeNet\n",
        "import networkx as nx\n",
        "import matplotlib.pyplot as plt\n",
        "import torch\n",
        "from rdkit import Chem\n",
        "from rdkit.Chem import Draw"
      ],
      "metadata": {
        "id": "J2lwd87cGYWT"
      },
      "execution_count": 5,
      "outputs": []
    },
    {
      "cell_type": "code",
      "source": [
        "dataset = MoleculeNet(root='dataset', name='HIV')"
      ],
      "metadata": {
        "colab": {
          "base_uri": "https://localhost:8080/"
        },
        "id": "1Ju6Zkw5GZmI",
        "outputId": "b34672ab-8eec-432a-f23e-98a9b9d018c7"
      },
      "execution_count": 6,
      "outputs": [
        {
          "output_type": "stream",
          "name": "stderr",
          "text": [
            "Downloading https://deepchemdata.s3-us-west-1.amazonaws.com/datasets/HIV.csv\n",
            "Processing...\n",
            "Done!\n"
          ]
        }
      ]
    },
    {
      "cell_type": "code",
      "source": [
        "print(f\"Number of graphs: {len(dataset)}\")\n",
        "print(f\"Number of features: {dataset.num_features}\")\n",
        "print(f\"Number of classes: {dataset.num_classes}\")"
      ],
      "metadata": {
        "colab": {
          "base_uri": "https://localhost:8080/"
        },
        "id": "tVADACwIGfHG",
        "outputId": "c72170a6-2f7c-4f61-f74d-1407241bbca5"
      },
      "execution_count": 7,
      "outputs": [
        {
          "output_type": "stream",
          "name": "stdout",
          "text": [
            "Number of graphs: 41127\n",
            "Number of features: 9\n",
            "Number of classes: 2\n"
          ]
        }
      ]
    },
    {
      "cell_type": "code",
      "source": [
        "data = dataset[0]\n",
        "print(\"First graph properties:\")\n",
        "print(f\"Number of nodes: {data.num_nodes}\")\n",
        "print(f\"Number of edges: {data.num_edges}\")\n",
        "print(f\"Number of features: {data.num_features}\")\n",
        "print(\"Adjacency matrix (edge_index):\")\n",
        "print(data.edge_index.t())\n",
        "print(\"Is undirected:\", (data.edge_index[0] >= data.edge_index[1]).any().item())"
      ],
      "metadata": {
        "colab": {
          "base_uri": "https://localhost:8080/"
        },
        "id": "ghCf1DKxGfgG",
        "outputId": "631310e2-b282-42c6-9b49-19110ed498c8"
      },
      "execution_count": 8,
      "outputs": [
        {
          "output_type": "stream",
          "name": "stdout",
          "text": [
            "\n",
            "First graph properties:\n",
            "Number of nodes: 19\n",
            "Number of edges: 40\n",
            "Number of features: 9\n",
            "\n",
            "Adjacency matrix (edge_index):\n",
            "tensor([[ 0,  1],\n",
            "        [ 1,  0],\n",
            "        [ 1,  2],\n",
            "        [ 2,  1],\n",
            "        [ 2,  3],\n",
            "        [ 2,  9],\n",
            "        [ 3,  2],\n",
            "        [ 3,  4],\n",
            "        [ 4,  3],\n",
            "        [ 4,  5],\n",
            "        [ 4, 10],\n",
            "        [ 4, 18],\n",
            "        [ 5,  4],\n",
            "        [ 5,  6],\n",
            "        [ 6,  5],\n",
            "        [ 6,  7],\n",
            "        [ 6,  9],\n",
            "        [ 7,  6],\n",
            "        [ 7,  8],\n",
            "        [ 8,  7],\n",
            "        [ 9,  2],\n",
            "        [ 9,  6],\n",
            "        [10,  4],\n",
            "        [10, 11],\n",
            "        [11, 10],\n",
            "        [11, 12],\n",
            "        [11, 14],\n",
            "        [12, 11],\n",
            "        [12, 13],\n",
            "        [13, 12],\n",
            "        [14, 11],\n",
            "        [14, 15],\n",
            "        [15, 14],\n",
            "        [15, 16],\n",
            "        [15, 18],\n",
            "        [16, 15],\n",
            "        [16, 17],\n",
            "        [17, 16],\n",
            "        [18,  4],\n",
            "        [18, 15]])\n",
            "\n",
            "Is undirected: True\n"
          ]
        }
      ]
    },
    {
      "cell_type": "code",
      "source": [
        "G = torch_geometric.utils.to_networkx(data)\n",
        "plt.figure(figsize=(8,8))\n",
        "nx.draw(G, with_labels=True)\n",
        "plt.title(\"Graph visualization of first molecule\")\n",
        "plt.show()"
      ],
      "metadata": {
        "colab": {
          "base_uri": "https://localhost:8080/",
          "height": 859
        },
        "id": "w5PtIRboGhnF",
        "outputId": "86f92ece-c6c4-4e60-a5d7-dc9fcdc45f64"
      },
      "execution_count": 9,
      "outputs": [
        {
          "output_type": "display_data",
          "data": {
            "text/plain": [
              "<Figure size 800x800 with 1 Axes>"
            ],
            "image/png": "[encoded data removed]"
          },
          "metadata": {}
        }
      ]
    },
    {
      "cell_type": "code",
      "source": [
        "smiles = dataset.get(0).smiles\n",
        "mol = Chem.MolFromSmiles(smiles)\n",
        "img = Draw.MolToImage(mol)\n",
        "plt.figure(figsize=(8,8))\n",
        "plt.imshow(img)\n",
        "plt.title(\"Molecular structure visualization\")\n",
        "plt.axis('off')\n",
        "plt.show()"
      ],
      "metadata": {
        "colab": {
          "base_uri": "https://localhost:8080/",
          "height": 675
        },
        "id": "LgnABx0xGjq7",
        "outputId": "6099731d-4401-4277-bca6-96b40bdb8738"
      },
      "execution_count": 10,
      "outputs": [
        {
          "output_type": "display_data",
          "data": {
            "text/plain": [
              "<Figure size 800x800 with 1 Axes>"
            ],
            "image/png": "[encoded data removed]"
          },
          "metadata": {}
        }
      ]
    },
    {
      "cell_type": "markdown",
      "metadata": {
        "id": "a5QV7llwgk6v"
      },
      "source": [
        "# EX 2. Convert a molecule to graph\n",
        "\n",
        "A single graph in PyTorch Geometric is described by an instance of the torch_geometric.data.Data class. So, in order to use graph neural network in pytorch_geometric,  we need convert molecules to torch_geometric.data.Data object.\n",
        "\n",
        "\n",
        "The **mol2graph(mol, y, smiles)** function below allows us to convert a molecule (rdkit format) to graph (a torch_geometric.data.Data object).\n",
        "\n",
        "\n",
        "1. Use this function to convert a acetic acid molecule to graph. This function takes three parametes as inputs: rdkit molecule (mol), label of graph (here molecule is active or not) (y) and SMILES string of molecule.  Known that the SMILES string of acetic acid is \"CC(O)=O\" and you can choose in this case the label y = 1.\n",
        "\n",
        "\n",
        "2. How many features are there in the nodes ? What are they ? Print out the \"edge_index\" of the acetic acide graph.\n"
      ]
    },
    {
      "cell_type": "code",
      "metadata": {
        "id": "Qd4weA8-fn3X"
      },
      "source": [
        "x_map = {\n",
        "    'atomic_num':\n",
        "    list(range(0, 119)),\n",
        "    'chirality': [\n",
        "        'CHI_UNSPECIFIED',\n",
        "        'CHI_TETRAHEDRAL_CW',\n",
        "        'CHI_TETRAHEDRAL_CCW',\n",
        "        'CHI_OTHER',\n",
        "    ],\n",
        "    'degree':\n",
        "    list(range(0, 11)),\n",
        "    'formal_charge':\n",
        "    list(range(-5, 7)),\n",
        "    'num_hs':\n",
        "    list(range(0, 9)),\n",
        "    'num_radical_electrons':\n",
        "    list(range(0, 5)),\n",
        "    'hybridization': [\n",
        "        'UNSPECIFIED',\n",
        "        'S',\n",
        "        'SP',\n",
        "        'SP2',\n",
        "        'SP3',\n",
        "        'SP3D',\n",
        "        'SP3D2',\n",
        "        'OTHER',\n",
        "    ],\n",
        "    'is_aromatic': [False, True],\n",
        "    'is_in_ring': [False, True],\n",
        "}\n",
        "\n",
        "\n",
        "\n",
        "\n",
        "e_map = {\n",
        "    'bond_type': [\n",
        "        'misc',\n",
        "        'SINGLE',\n",
        "        'DOUBLE',\n",
        "        'TRIPLE',\n",
        "        'AROMATIC',\n",
        "    ],\n",
        "    'stereo': [\n",
        "        'STEREONONE',\n",
        "        'STEREOZ',\n",
        "        'STEREOE',\n",
        "        'STEREOCIS',\n",
        "        'STEREOTRANS',\n",
        "        'STEREOANY',\n",
        "    ],\n",
        "    'is_conjugated': [False, True],\n",
        "}\n",
        "\n",
        "\n",
        "def mol2graph(mol, y, smiles):\n",
        "\n",
        "    from torch_geometric.data import Data\n",
        "    import torch\n",
        "    import torch_geometric\n",
        "\n",
        "\n",
        "    xs = []\n",
        "\n",
        "    for atom in mol.GetAtoms():\n",
        "\n",
        "        x = []\n",
        "\n",
        "        x.append(x_map['atomic_num'].index(atom.GetAtomicNum()))\n",
        "        # The atomic number is the number of protons in the nucleus of an atom\n",
        "\n",
        "        x.append(x_map['chirality'].index(str(atom.GetChiralTag())))\n",
        "\n",
        "        x.append(x_map['degree'].index(atom.GetTotalDegree()))\n",
        "        # the number of carbon atoms that this atom is attached to\n",
        "\n",
        "        x.append(x_map['formal_charge'].index(atom.GetFormalCharge()))\n",
        "        x.append(x_map['num_hs'].index(atom.GetTotalNumHs()))\n",
        "        x.append(x_map['num_radical_electrons'].index(\n",
        "            atom.GetNumRadicalElectrons()))\n",
        "        x.append(x_map['hybridization'].index(str(atom.GetHybridization())))\n",
        "        x.append(x_map['is_aromatic'].index(atom.GetIsAromatic()))\n",
        "        x.append(x_map['is_in_ring'].index(atom.IsInRing()))\n",
        "\n",
        "        xs.append(x)\n",
        "\n",
        "\n",
        "\n",
        "    x = torch.tensor(xs, dtype=torch.float).view(-1, 9)\n",
        "\n",
        "    #print(\"x\", x)\n",
        "\n",
        "    edge_indices, edge_attrs = [], []\n",
        "    for bond in mol.GetBonds():\n",
        "        i = bond.GetBeginAtomIdx()\n",
        "        j = bond.GetEndAtomIdx()\n",
        "\n",
        "        e = []\n",
        "        e.append(e_map['bond_type'].index(str(bond.GetBondType())))\n",
        "        e.append(e_map['stereo'].index(str(bond.GetStereo())))\n",
        "        e.append(e_map['is_conjugated'].index(bond.GetIsConjugated()))\n",
        "\n",
        "        edge_indices += [[i, j], [j, i]]\n",
        "        edge_attrs += [e, e]\n",
        "\n",
        "    edge_index = torch.tensor(edge_indices)\n",
        "    edge_index = edge_index.t().to(torch.long).view(2, -1)\n",
        "    edge_attr = torch.tensor(edge_attrs, dtype=torch.long).view(-1, 3)\n",
        "\n",
        "    # Sort indices.\n",
        "    y = torch.tensor(y, dtype=torch.long)\n",
        "\n",
        "    if edge_index.numel() > 0:\n",
        "        perm = (edge_index[0] * x.size(0) + edge_index[1]).argsort()\n",
        "        edge_index, edge_attr = edge_index[:, perm], edge_attr[perm]\n",
        "\n",
        "    data = Data(x=x, edge_index=edge_index, edge_attr=edge_attr, y = y, smiles=smiles)\n",
        "\n",
        "    return data\n"
      ],
      "execution_count": 11,
      "outputs": []
    },
    {
      "cell_type": "code",
      "metadata": {
        "id": "jWDK8zIzmUtE"
      },
      "source": [
        "smiles_acetic_acid = \"CC(O)=O\"\n",
        "mol = rdkit.Chem.MolFromSmiles(smiles_acetic_acid)\n",
        "graph = mol2graph(mol, y=1, smiles=smiles_acetic_acid)"
      ],
      "execution_count": 12,
      "outputs": []
    },
    {
      "cell_type": "code",
      "source": [
        "print(\"Number of node features:\", graph.x.size(1))\n",
        "print(\"\\nFeature meanings:\")\n",
        "print(\"1. Atomic number\")\n",
        "print(\"2. Chirality\")\n",
        "print(\"3. Degree\")\n",
        "print(\"4. Formal charge\")\n",
        "print(\"5. Number of hydrogens\")\n",
        "print(\"6. Number of radical electrons\")\n",
        "print(\"7. Hybridization\")\n",
        "print(\"8. Is aromatic\")\n",
        "print(\"9. Is in ring\")\n",
        "\n",
        "print(\"\\nEdge index (connectivity):\")\n",
        "print(graph.edge_index.t())"
      ],
      "metadata": {
        "colab": {
          "base_uri": "https://localhost:8080/"
        },
        "id": "9oUV4r1UG2a2",
        "outputId": "f1144351-2b4f-416b-f17a-d08a6f9570a0"
      },
      "execution_count": 13,
      "outputs": [
        {
          "output_type": "stream",
          "name": "stdout",
          "text": [
            "Number of node features: 9\n",
            "\n",
            "Feature meanings:\n",
            "1. Atomic number\n",
            "2. Chirality\n",
            "3. Degree\n",
            "4. Formal charge\n",
            "5. Number of hydrogens\n",
            "6. Number of radical electrons\n",
            "7. Hybridization\n",
            "8. Is aromatic\n",
            "9. Is in ring\n",
            "\n",
            "Edge index (connectivity):\n",
            "tensor([[0, 1],\n",
            "        [1, 0],\n",
            "        [1, 2],\n",
            "        [1, 3],\n",
            "        [2, 1],\n",
            "        [3, 1]])\n"
          ]
        }
      ]
    },
    {
      "cell_type": "markdown",
      "metadata": {
        "id": "i58VGkbqxdgk"
      },
      "source": [
        "# Buid a Graph Neural Network (GNN)\n",
        "\n",
        " In the next exercises of this notebook, we will try to build a graph network to predict the ability of molecules to inhibit a protein known as ERK2. For this purpose, we will use compounds that are derived from the DUD-E database."
      ]
    },
    {
      "cell_type": "markdown",
      "metadata": {
        "id": "uWlmiF0yn1oV"
      },
      "source": [
        "#Ex 3: Create dataset\n",
        "\n",
        "The file named \"active_data.csv\" consists of more than 300 active and decoy molecules. The dataset is made of two components:\n",
        "\n",
        "-  Chemical structural data on compounds: each chemical compound is described under the SMILES format.\n",
        "\n",
        "-  ERK2-activity : it corresponds to the screening result evaluating the activity (1) or the inactivity (0) of the chemical compound.\n",
        "\n",
        "\n",
        "1. Read the \"active_data.csv\" file into a pandas dataframe. Are there how many active molecules and how many decoy molecules?\n",
        "\n",
        "\n",
        "2. From this dataframe, create a list of RDKit molecules.\n",
        "\n",
        "\n",
        "3. Using the mol2graph(mol, y, smiles) function to convert the list of Rdkit molecules to a list of torch_geometric.data.Data objects. You should call this list as \"list_data\".\n",
        "\n",
        "\n",
        "4. Plot the histogram to see the ratio between the  compounds active and inactive."
      ]
    },
    {
      "cell_type": "code",
      "metadata": {
        "id": "9uDVldMnmp4X"
      },
      "source": [
        "import pandas as pd\n",
        "import matplotlib.pyplot as plt\n",
        "from rdkit import Chem"
      ],
      "execution_count": 14,
      "outputs": []
    },
    {
      "cell_type": "code",
      "source": [
        "df = pd.read_csv(\"/content/ml4molecule_graph_active_data.csv\")\n",
        "print(f\"Active molecules: {len(df[df['is_active'] == 1])}\")\n",
        "print(f\"Inactive molecules: {len(df[df['is_active'] == 0])}\")"
      ],
      "metadata": {
        "colab": {
          "base_uri": "https://localhost:8080/"
        },
        "id": "Az7g3bYAG7X-",
        "outputId": "e18d9288-91e8-4f4e-98a1-639e23af6be5"
      },
      "execution_count": 39,
      "outputs": [
        {
          "output_type": "stream",
          "name": "stdout",
          "text": [
            "Active molecules: 79\n",
            "Inactive molecules: 300\n"
          ]
        }
      ]
    },
    {
      "cell_type": "code",
      "source": [
        "molecules = [Chem.MolFromSmiles(smiles) for smiles in df['SMILES']]"
      ],
      "metadata": {
        "id": "C9mH4-1QG8vK"
      },
      "execution_count": 20,
      "outputs": []
    },
    {
      "cell_type": "code",
      "source": [
        "list_data = []\n",
        "for mol, activity, smiles in zip(molecules, df['is_active'], df['SMILES']):\n",
        "    if mol is not None:\n",
        "        graph = mol2graph(mol, y=activity, smiles=smiles)\n",
        "        list_data.append(graph)\n",
        "\n",
        "print(f\"valid molecules converted to graphs: {len(list_data)}\")"
      ],
      "metadata": {
        "colab": {
          "base_uri": "https://localhost:8080/"
        },
        "id": "bMehZcapG-Mw",
        "outputId": "ff9e3a2c-eace-44df-aba5-f17c50a33e95"
      },
      "execution_count": 37,
      "outputs": [
        {
          "output_type": "stream",
          "name": "stdout",
          "text": [
            "valid molecules converted to graphs: 379\n"
          ]
        }
      ]
    },
    {
      "cell_type": "code",
      "source": [
        "plt.figure(figsize=(8,6))\n",
        "df['is_active'].value_counts().plot(kind='bar')\n",
        "plt.title('Active / Incative')\n",
        "plt.xlabel('is_active')\n",
        "plt.ylabel('Count')\n",
        "plt.show()"
      ],
      "metadata": {
        "colab": {
          "base_uri": "https://localhost:8080/",
          "height": 559
        },
        "id": "RGMmq3rCHAF-",
        "outputId": "d7e85044-b7d1-46d1-d077-378ea944b820"
      },
      "execution_count": 38,
      "outputs": [
        {
          "output_type": "display_data",
          "data": {
            "text/plain": [
              "<Figure size 800x600 with 1 Axes>"
            ],
            "image/png": "[encoded data removed]"
          },
          "metadata": {}
        }
      ]
    },
    {
      "cell_type": "markdown",
      "metadata": {
        "id": "WAyN3trZ5kum"
      },
      "source": [
        "# EX 4. Create training set and test set\n",
        "In this exercise, we will prepare a training set and a test set.\n",
        "\n",
        "1. Shuffle the \"list_data\" list that you've created above.\n",
        "\n",
        "2. Take the first 300 molecules for \"train_dataset\" and the rest for \"test_dataset\".\n"
      ]
    },
    {
      "cell_type": "code",
      "metadata": {
        "id": "N5BbkGyk5yBA"
      },
      "source": [
        "import random\n",
        "\n",
        "random.seed(123)\n",
        "random.shuffle(list_data)\n",
        "\n",
        "train_dataset = list_data[:300]\n",
        "test_dataset = list_data[300:]"
      ],
      "execution_count": 24,
      "outputs": []
    },
    {
      "cell_type": "markdown",
      "metadata": {
        "id": "lRfuRXtiIHvo"
      },
      "source": [
        "# Ex5: Create DataLoader\n",
        "\n",
        "Usually a graph classification task trains on a lot of graphs, and it will be very inefficient to use only one graph at a time when training the model.\n",
        "\n",
        "Pytorch Geometric opts for building a single giant graph from a list of graphs by stacking adjacency matrices in a diagonal fashion and node that target features are simply concatenated in the note dimension.\n",
        "\n",
        "A single giant graph is automatically built from a list of graphs with DataLoader.\n",
        "\n",
        "1. Create **train_loader** and **test_loader** from **train_dataset** and **test_dataset** by using the torch_geometric.data.DataLoader class.\n",
        "\n",
        "\n",
        "2. Get a batch from **train_loader**. Print out the number of graphs and data of this batch."
      ]
    },
    {
      "cell_type": "code",
      "metadata": {
        "id": "EHiIeHZ761f_",
        "colab": {
          "base_uri": "https://localhost:8080/"
        },
        "outputId": "db33b7e0-61a0-493a-c11f-7c0cef260622"
      },
      "source": [
        "from torch_geometric.data import DataLoader\n",
        "\n",
        "train_loader = DataLoader(train_dataset, batch_size=64, shuffle=True)\n",
        "\n",
        "\n",
        "### TODO ###\n",
        "test_loader = DataLoader(test_dataset, batch_size=64, shuffle=False)\n",
        "\n",
        "batch = next(iter(train_loader))\n",
        "print(f\"Number of graphs in batch: {batch.num_graphs}\")\n",
        "print(f\"- x shape: {batch.x.shape}\")\n",
        "print(f\"- edge_index shape: {batch.edge_index.shape}\")\n",
        "print(f\"- batch vector shape: {batch.batch.shape}\")\n",
        "print(f\"- y shape: {batch.y.shape}\")"
      ],
      "execution_count": 40,
      "outputs": [
        {
          "output_type": "stream",
          "name": "stdout",
          "text": [
            "Number of graphs in batch: 64\n",
            "- x shape: torch.Size([1520, 9])\n",
            "- edge_index shape: torch.Size([2, 3326])\n",
            "- batch vector shape: torch.Size([1520])\n",
            "- y shape: torch.Size([64])\n"
          ]
        },
        {
          "output_type": "stream",
          "name": "stderr",
          "text": [
            "/usr/local/lib/python3.10/dist-packages/torch_geometric/deprecation.py:26: UserWarning: 'data.DataLoader' is deprecated, use 'loader.DataLoader' instead\n",
            "  warnings.warn(out)\n"
          ]
        }
      ]
    },
    {
      "cell_type": "code",
      "source": [],
      "metadata": {
        "id": "Im1iRyEeHKdv"
      },
      "execution_count": null,
      "outputs": []
    },
    {
      "cell_type": "markdown",
      "metadata": {
        "id": "hWtYDyqY3SQx"
      },
      "source": [
        "# Ex 6: Graph Neural Network Layer\n",
        "\n",
        " Let's try to test a graph neural network layer. This kind of layer is available on the pytorch_geometric.nn module. This layer's similar to Linear Layer (Multi-layer Perception Network) in deep learning.\n",
        "\n",
        "\n",
        " 1. Create an instance of the torch_geometric.nn. GCNConv class. You need choose two parameters: number of features and number of hidden layers.\n",
        "\n",
        "2. Apply it to the graph of acetic acid.\n",
        "\n",
        "\n",
        "3. What is the output ? its size ?\n"
      ]
    },
    {
      "cell_type": "code",
      "metadata": {
        "id": "uwKtqlYI3Qw7"
      },
      "source": [
        "smiles_acetic_acid = \"CC(O)=O\"\n",
        "mol_acetic_acid = rdkit.Chem.MolFromSmiles(smiles_acetic_acid)\n",
        "graph_acetic_acid = mol2graph(mol, y = 1, smiles = smiles_acetic_acid)"
      ],
      "execution_count": 26,
      "outputs": []
    },
    {
      "cell_type": "code",
      "metadata": {
        "colab": {
          "base_uri": "https://localhost:8080/"
        },
        "id": "9XoXr9LaOGzf",
        "outputId": "ba59edf9-b834-4d04-d11a-a84894664fbb"
      },
      "source": [
        "# TODO\n",
        "from torch_geometric.nn import GCNConv\n",
        "gcn = GCNConv(in_channels=9, out_channels=16)\n",
        "\n",
        "out = gcn(graph_acetic_acid.x, graph_acetic_acid.edge_index)\n",
        "\n",
        "print(out)\n",
        "print(\"Shape:\", out.shape)\n"
      ],
      "execution_count": 42,
      "outputs": [
        {
          "output_type": "stream",
          "name": "stdout",
          "text": [
            "tensor([[-5.0658e+00,  3.4284e-01, -1.0269e+00, -3.2047e+00, -2.3400e+00,\n",
            "          1.9007e+00, -9.9323e-02, -1.6096e+00, -1.0654e+00, -4.1692e+00,\n",
            "          1.9560e-01, -1.5997e+00,  7.4565e-01, -1.3225e+00,  5.6878e-01,\n",
            "          5.4539e-01],\n",
            "        [-6.8582e+00,  8.7562e-01, -7.2481e-01, -3.8447e+00, -2.8944e+00,\n",
            "          2.7071e+00,  4.0009e-02, -2.2038e+00, -1.4470e+00, -5.2654e+00,\n",
            "          7.1467e-02, -2.0324e+00,  8.6614e-01, -2.0258e+00,  1.6276e+00,\n",
            "          1.5483e+00],\n",
            "        [-7.7656e+00,  1.2515e+00, -5.2171e-02, -4.2949e+00, -3.4965e+00,\n",
            "          3.9624e+00,  9.3796e-02, -2.4929e+00, -2.3560e+00, -5.1556e+00,\n",
            "          2.9162e-01, -1.9276e+00,  7.1476e-01, -3.2091e+00,  3.6386e+00,\n",
            "          2.8788e+00],\n",
            "        [-5.8587e+00,  5.5849e-01,  1.5895e-01, -2.5357e+00, -1.9968e+00,\n",
            "          2.4820e+00, -5.5228e-02, -1.5898e+00, -1.3423e+00, -3.8744e+00,\n",
            "         -4.9225e-01, -2.0577e+00,  6.3452e-01, -2.0595e+00,  2.1509e+00,\n",
            "          2.3615e+00],\n",
            "        [-5.8587e+00,  5.5849e-01,  1.5895e-01, -2.5357e+00, -1.9968e+00,\n",
            "          2.4820e+00, -5.5228e-02, -1.5898e+00, -1.3423e+00, -3.8744e+00,\n",
            "         -4.9225e-01, -2.0577e+00,  6.3452e-01, -2.0595e+00,  2.1509e+00,\n",
            "          2.3615e+00],\n",
            "        [-9.2035e+00,  2.5879e+00, -2.5013e-01, -5.6682e+00, -5.0782e+00,\n",
            "          5.9314e+00,  9.1603e-01, -3.0862e+00, -3.6382e+00, -7.0384e+00,\n",
            "          1.5057e+00, -1.1050e+00,  9.4654e-01, -4.6877e+00,  5.7393e+00,\n",
            "          4.2052e+00],\n",
            "        [-6.8355e+00,  1.4266e+00,  3.1736e-01, -3.6010e+00, -3.0736e+00,\n",
            "          3.7172e+00,  2.7375e-01, -2.1396e+00, -2.2005e+00, -4.5049e+00,\n",
            "          3.3259e-01, -1.4558e+00,  6.2381e-01, -3.0102e+00,  3.8463e+00,\n",
            "          3.1619e+00],\n",
            "        [-6.7380e+00,  2.3249e+00, -3.9541e-01, -4.2906e+00, -3.8048e+00,\n",
            "          4.3612e+00,  9.9183e-01, -2.5163e+00, -2.8217e+00, -5.4112e+00,\n",
            "          1.4638e+00, -6.0834e-01,  6.0126e-01, -3.4376e+00,  4.3702e+00,\n",
            "          2.9000e+00],\n",
            "        [-5.6064e+00,  1.0734e+00, -3.6617e-01, -3.0545e+00, -2.2104e+00,\n",
            "          2.0637e+00,  1.0953e-01, -2.1293e+00, -1.1041e+00, -3.9061e+00,\n",
            "          5.2174e-02, -1.5743e+00,  4.6414e-01, -1.6452e+00,  1.6602e+00,\n",
            "          1.1845e+00],\n",
            "        [-6.7136e+00,  1.8569e+00, -3.4937e-01, -3.3961e+00, -2.6977e+00,\n",
            "          2.8589e+00,  6.4668e-01, -2.4561e+00, -1.6070e+00, -5.2869e+00,\n",
            "          2.7937e-01, -1.5789e+00,  5.5617e-01, -2.2686e+00,  2.6175e+00,\n",
            "          2.1114e+00],\n",
            "        [-4.9005e+00,  1.7692e+00, -3.0559e-01, -2.4648e+00, -2.0399e+00,\n",
            "          2.4114e+00,  7.6811e-01, -2.0411e+00, -1.3666e+00, -3.9231e+00,\n",
            "          3.9017e-01, -9.4444e-01,  3.1295e-01, -2.0571e+00,  2.3904e+00,\n",
            "          1.6893e+00],\n",
            "        [-6.4486e+00,  8.0877e-01, -2.9310e-01, -3.1147e+00, -2.2573e+00,\n",
            "          1.9231e+00,  3.4303e-02, -1.7821e+00, -1.2116e+00, -5.0180e+00,\n",
            "         -2.1915e-01, -2.2055e+00,  6.4082e-01, -1.2435e+00,  1.3897e+00,\n",
            "          1.6557e+00],\n",
            "        [-5.7526e+00,  4.5410e-01, -3.5530e-01, -2.8207e+00, -2.0560e+00,\n",
            "          1.6820e+00, -8.0804e-02, -1.3881e+00, -1.1397e+00, -4.6217e+00,\n",
            "         -2.2354e-01, -2.0953e+00,  6.1920e-01, -1.0025e+00,  1.0117e+00,\n",
            "          1.4223e+00],\n",
            "        [-5.6695e+00,  5.3087e-01, -2.2977e-01, -2.6891e+00, -1.8993e+00,\n",
            "          1.5320e+00, -5.9433e-02, -1.4494e+00, -1.0848e+00, -4.3832e+00,\n",
            "         -2.5647e-01, -2.0995e+00,  5.3344e-01, -9.1316e-01,  1.0914e+00,\n",
            "          1.4103e+00],\n",
            "        [-7.2935e+00,  9.4380e-01, -5.0795e-02, -3.3750e+00, -2.5125e+00,\n",
            "          2.3082e+00, -1.2334e-02, -1.9657e+00, -1.4687e+00, -5.4423e+00,\n",
            "         -3.6310e-01, -2.4828e+00,  5.7683e-01, -1.5780e+00,  1.9582e+00,\n",
            "          2.1517e+00],\n",
            "        [-5.6695e+00,  5.3087e-01, -2.2977e-01, -2.6891e+00, -1.8993e+00,\n",
            "          1.5320e+00, -5.9433e-02, -1.4494e+00, -1.0848e+00, -4.3832e+00,\n",
            "         -2.5647e-01, -2.0995e+00,  5.3344e-01, -9.1316e-01,  1.0914e+00,\n",
            "          1.4103e+00],\n",
            "        [-5.7526e+00,  4.5410e-01, -3.5530e-01, -2.8207e+00, -2.0560e+00,\n",
            "          1.6820e+00, -8.0804e-02, -1.3881e+00, -1.1397e+00, -4.6217e+00,\n",
            "         -2.2354e-01, -2.0953e+00,  6.1920e-01, -1.0025e+00,  1.0117e+00,\n",
            "          1.4223e+00],\n",
            "        [-6.7503e+00,  1.6834e+00,  1.1332e-02, -3.1090e+00, -2.4653e+00,\n",
            "          2.7320e+00,  4.8773e-01, -2.2999e+00, -1.6814e+00, -4.9831e+00,\n",
            "          1.0992e-03, -1.8388e+00,  3.3883e-01, -2.1954e+00,  2.8371e+00,\n",
            "          2.3412e+00],\n",
            "        [-4.9719e+00,  1.6117e+00, -1.4020e-01, -2.3512e+00, -1.9764e+00,\n",
            "          2.4133e+00,  6.5164e-01, -1.9037e+00, -1.4466e+00, -3.8592e+00,\n",
            "          2.2625e-01, -1.1127e+00,  2.1904e-01, -2.0598e+00,  2.4892e+00,\n",
            "          1.8470e+00],\n",
            "        [-5.4982e+00,  1.0388e+00,  3.1609e-01, -2.3510e+00, -1.8429e+00,\n",
            "          1.9881e+00,  6.8825e-02, -1.6458e+00, -1.1360e+00, -3.7631e+00,\n",
            "         -3.7565e-01, -1.6946e+00,  2.5533e-01, -1.5596e+00,  2.1103e+00,\n",
            "          1.9858e+00],\n",
            "        [-6.9704e+00,  1.7222e+00, -7.7849e-02, -3.3685e+00, -2.8625e+00,\n",
            "          3.2788e+00,  4.9229e-01, -2.2655e+00, -1.8658e+00, -5.3656e+00,\n",
            "          7.5230e-02, -1.6823e+00,  4.4444e-01, -2.6488e+00,  3.0816e+00,\n",
            "          2.6038e+00],\n",
            "        [-4.9719e+00,  1.6117e+00, -1.4020e-01, -2.3512e+00, -1.9764e+00,\n",
            "          2.4133e+00,  6.5164e-01, -1.9037e+00, -1.4466e+00, -3.8592e+00,\n",
            "          2.2625e-01, -1.1127e+00,  2.1904e-01, -2.0598e+00,  2.4892e+00,\n",
            "          1.8470e+00],\n",
            "        [-5.4869e+00,  9.7915e-01,  2.7946e-01, -2.3533e+00, -1.7315e+00,\n",
            "          1.7243e+00,  5.6443e-02, -1.6588e+00, -1.0850e+00, -3.7233e+00,\n",
            "         -3.4682e-01, -1.8036e+00,  2.5647e-01, -1.2889e+00,  1.9173e+00,\n",
            "          1.8136e+00]], grad_fn=<AddBackward0>)\n",
            "Shape: torch.Size([23, 16])\n"
          ]
        }
      ]
    },
    {
      "cell_type": "code",
      "source": [],
      "metadata": {
        "id": "tPwDtTs9HQeu"
      },
      "execution_count": null,
      "outputs": []
    },
    {
      "cell_type": "markdown",
      "metadata": {
        "id": "gjTreX5M65sC"
      },
      "source": [
        "# EX 7: global_mean_pool Layer\n",
        "\n",
        "As we've seen in the ex 6, the output of a GNN layer is a tensor with size (35, 16). However, for the graph classification task, the label of graph is just a scaler number. So, we need to aggregate node embeddings into a unified graph embedding (known as readout layer) before training a final classifier. Let's try it to see what the output of a global_mean_pool layer is.\n",
        "\n",
        "\n",
        "1. Pass the **out_GCN_layer** variable to the global_mean_pool function. Store the result in a variable named **out_GMP_layer**\n",
        "\n",
        "2. Print out the shape of **out_GMP_layer**.\n",
        "\n"
      ]
    },
    {
      "cell_type": "code",
      "metadata": {
        "colab": {
          "base_uri": "https://localhost:8080/"
        },
        "id": "m0-2aMh483Rc",
        "outputId": "5a0e465a-1747-4a21-baf1-dc4050adabd6"
      },
      "source": [
        "from torch_geometric.nn import GCNConv\n",
        "from torch_geometric.nn import global_mean_pool\n",
        "\n",
        "# GMP mean Global mean pool\n",
        "data_for_test_GMP_layer = DataLoader([graph_acetic_acid], batch_size=1 )\n",
        "conv_test = GCNConv(9, 16)\n",
        "\n",
        "\n",
        "data = next(iter(data_for_test_GMP_layer))\n",
        "out_GCN_layer = conv_test(data.x, data.edge_index)\n",
        "\n",
        "#### TO DO #####\n",
        "out_GMP_layer = global_mean_pool(out_GCN_layer, data.batch)\n",
        "\n",
        "print(out_GMP_layer)\n",
        "print(\"shape of output_GMP_layer \", out_GMP_layer.shape )\n",
        "\n"
      ],
      "execution_count": 30,
      "outputs": [
        {
          "output_type": "stream",
          "name": "stdout",
          "text": [
            "tensor([[ 4.1860, -0.2334,  2.0169, -5.6974, -0.1414,  1.0706, -3.4618, -1.8815,\n",
            "          4.2122, -3.9790, -1.9278, -2.1392,  2.7844, -0.5220, -1.9811,  1.9599]],\n",
            "       grad_fn=<DivBackward0>)\n",
            "shape of output_GMP_layer  torch.Size([1, 16])\n"
          ]
        }
      ]
    },
    {
      "cell_type": "code",
      "source": [],
      "metadata": {
        "id": "YUcTbPvLHYjh"
      },
      "execution_count": null,
      "outputs": []
    },
    {
      "cell_type": "markdown",
      "metadata": {
        "id": "gVYBeplH7QEu"
      },
      "source": [
        "# EX 8: Building a graph network for graph classification task with Pytorch geometric\n",
        "\n",
        "\n",
        "In this exercise, we will create a network to classify if a molecule is active. This network consists of 4 layers:\n",
        "\n",
        "1. A graph convolution network layer conv1\n",
        "\n",
        "2. Another GCN layer conv2\n",
        "\n",
        "3. Another GCN layer conv3\n",
        "\n",
        "4. A torch_geometric.nn.global_mean_pool layer\n",
        "\n",
        "5. A linear layer\n",
        "\n",
        "Relu activation function is used after the two first layers.\n",
        "\n",
        "Complete the lines below (after #TODO) to finish the definition of this network.\n"
      ]
    },
    {
      "cell_type": "code",
      "metadata": {
        "id": "wkU-LtEm43SI"
      },
      "source": [
        "from torch_geometric.nn import GCNConv\n",
        "from torch_geometric.nn import global_mean_pool\n",
        "\n",
        "import torch\n",
        "import torch.nn.functional as F\n",
        "from torch.nn import Linear\n",
        "\n",
        "#### TODO\n",
        "n_features = 9\n",
        "\n",
        "\n",
        "\n",
        "class Net(torch.nn.Module):\n",
        "    def __init__(self):\n",
        "        super(Net, self).__init__()\n",
        "        torch.manual_seed(12)\n",
        "        self.conv1 = GCNConv(n_features, 8)\n",
        "        self.conv2 = GCNConv(8, 16)\n",
        "        self.conv3 = GCNConv(16, 32)\n",
        "\n",
        "        # TO DO\n",
        "        self.linear = Linear(32, 2)\n",
        "\n",
        "\n",
        "    def forward(self, x, edge_index, batch):\n",
        "\n",
        "\n",
        "        # 1. Obtain node embeddings\n",
        "        # First GCN layer\n",
        "        x = self.conv1(x, edge_index)\n",
        "        x = F.relu(x)\n",
        "\n",
        "        ## TODO\n",
        "        # Second GCN layer\n",
        "        x = self.conv2(x, edge_index)\n",
        "        x = F.relu(x)\n",
        "\n",
        "\n",
        "        # Third GCN layer\n",
        "        x = self.conv3(x, edge_index)\n",
        "\n",
        "\n",
        "        ### TODO#####\n",
        "        #2. REadout layer\n",
        "        x = global_mean_pool(x, batch)\n",
        "\n",
        "\n",
        "        # 3. Linear Layer\n",
        "        ## TO DO\n",
        "        x = self.linear(x)\n",
        "\n",
        "        return x\n"
      ],
      "execution_count": 31,
      "outputs": []
    },
    {
      "cell_type": "code",
      "source": [],
      "metadata": {
        "id": "d15pXhxtHoly"
      },
      "execution_count": null,
      "outputs": []
    },
    {
      "cell_type": "markdown",
      "metadata": {
        "id": "PucPIEd5UTWn"
      },
      "source": [
        "# Ex 9: Create network\n",
        "\n",
        "\n",
        "1. Create the network then print out the model and look at it's text representation\n",
        "\n",
        "2. Define an optimizer. You should use the torch.optim.Adam class.\n",
        "\n",
        "3. Define a loss function. You should use the CrossEntropyLoss class.\n",
        "\n"
      ]
    },
    {
      "cell_type": "code",
      "metadata": {
        "id": "ll1q9TLdUagf",
        "colab": {
          "base_uri": "https://localhost:8080/"
        },
        "outputId": "97236e21-f9c7-4992-9e76-44d3165dfad8"
      },
      "source": [
        "model = Net()\n",
        "print(model)"
      ],
      "execution_count": 32,
      "outputs": [
        {
          "output_type": "stream",
          "name": "stdout",
          "text": [
            "Net(\n",
            "  (conv1): GCNConv(9, 8)\n",
            "  (conv2): GCNConv(8, 16)\n",
            "  (conv3): GCNConv(16, 32)\n",
            "  (linear): Linear(in_features=32, out_features=2, bias=True)\n",
            ")\n"
          ]
        }
      ]
    },
    {
      "cell_type": "code",
      "source": [
        "optimizer = torch.optim.Adam(model.parameters(), lr=0.01)\n",
        "\n",
        "criterion = torch.nn.CrossEntropyLoss()"
      ],
      "metadata": {
        "id": "Ypt6Vk32Huxq"
      },
      "execution_count": 33,
      "outputs": []
    },
    {
      "cell_type": "code",
      "source": [],
      "metadata": {
        "id": "0nnjvRNQHw-V"
      },
      "execution_count": null,
      "outputs": []
    },
    {
      "cell_type": "code",
      "metadata": {
        "colab": {
          "base_uri": "https://localhost:8080/"
        },
        "id": "KX1DzW1ErYJO",
        "outputId": "05e89c4b-b4b7-4972-c9d2-9b73616908d1"
      },
      "source": [
        "print( model)"
      ],
      "execution_count": null,
      "outputs": [
        {
          "output_type": "stream",
          "text": [
            "Net(\n",
            "  (conv1): GCNConv(9, 8)\n",
            "  (conv2): GCNConv(8, 16)\n",
            "  (conv3): GCNConv(16, 32)\n",
            "  (linear): Linear(in_features=32, out_features=2, bias=True)\n",
            ")\n"
          ],
          "name": "stdout"
        }
      ]
    },
    {
      "cell_type": "markdown",
      "metadata": {
        "id": "ZhsGNksI7zVa"
      },
      "source": [
        "# Ex 10: Train model for an epoch\n",
        "\n",
        "Write a function named **train()** that allows us to train a model for an epoch.\n",
        "\n",
        "The tasks that the function should execute:\n",
        "\n",
        "\n",
        "0. Iterate in batches over the train_loader\n",
        "\n",
        "1. Perform a single forward pass\n",
        "\n",
        "2. Compute the loss\n",
        "\n",
        "3. Derive the gradient\n",
        "\n",
        "4. Update parameters\n",
        "\n",
        "5. Clearn gradients\n",
        "\n",
        "\n",
        "\n",
        "Complete the lines (with ?????) below to finish the function."
      ]
    },
    {
      "cell_type": "code",
      "metadata": {
        "id": "xpjXAr8T7qFd"
      },
      "source": [
        "def train():\n",
        "    model.train()\n",
        "\n",
        "    for data in train_loader:\n",
        "        # TODO ( )\n",
        "        #1.Forward pass\n",
        "         out = model(data.x, data.edge_index, data.batch)\n",
        "         # 2. Compute the loss\n",
        "         loss =  criterion(out, data.y)\n",
        "         # 3. Calculate the gradient\n",
        "         loss.backward()\n",
        "         #4. Update the parameters (weights)\n",
        "         optimizer.step()\n",
        "         #5. Clean gradients\n",
        "         optimizer.zero_grad()\n"
      ],
      "execution_count": 34,
      "outputs": []
    },
    {
      "cell_type": "code",
      "source": [],
      "metadata": {
        "id": "PC1pgD4EH5NR"
      },
      "execution_count": null,
      "outputs": []
    },
    {
      "cell_type": "markdown",
      "metadata": {
        "id": "9k4VvLPX8sCA"
      },
      "source": [
        "# Ex 11: Test\n",
        "\n",
        "Similar to Ex9, write a function named **tes(loader)** that allows to compute the accuracy of the model on dataset \"loader\".\n",
        "\n",
        "The steps to calculate the accuracy of a classification model:\n",
        "\n",
        "1. Iterate in batches over the train_loader.\n",
        "\n",
        "2. Compute the output of the model\n",
        "\n",
        "3. Find the class with highest probability\n",
        "\n",
        "4. Count ground-truth labels\n",
        "\n",
        "5. Compute the accuracy\n",
        "\n",
        "\n",
        "Complete the lines (with ?????)  to finish the definition of this network."
      ]
    },
    {
      "cell_type": "code",
      "metadata": {
        "id": "Hqf4QsUg8VUE"
      },
      "source": [
        "def test(loader):\n",
        "     model.eval()\n",
        "\n",
        "     correct = 0\n",
        "     for data in loader:\n",
        "         ########### TODO ####\n",
        "         # output of the model\n",
        "         out =  model(data.x, data.edge_index, data.batch)\n",
        "         # Use the class with highest probability\n",
        "         pred = out.argmax(dim=1)\n",
        "\n",
        "         # Check against ground-truth labels\n",
        "         correct += int((pred == data.y).sum())\n",
        "     return correct / len(loader.dataset)\n",
        "\n"
      ],
      "execution_count": 35,
      "outputs": []
    },
    {
      "cell_type": "markdown",
      "metadata": {
        "id": "-4gcODV_8vTs"
      },
      "source": [
        "# Ex 12: Training model\n",
        "\n",
        "Training model for 100 epoches.\n",
        "\n",
        "Calculate training accuracy for train_loader and test_loader by using the **train()** function and the **test(loader)** function\n"
      ]
    },
    {
      "cell_type": "code",
      "metadata": {
        "colab": {
          "base_uri": "https://localhost:8080/"
        },
        "id": "Si4ay8qM8Zl5",
        "outputId": "07cdc50f-9ad9-4e36-b1f4-d785281b0f99"
      },
      "source": [],
      "execution_count": null,
      "outputs": [
        {
          "output_type": "stream",
          "text": [
            "Epoch: 001, Train Acc: 0.8067, Test Acc: 0.7342\n",
            "Epoch: 002, Train Acc: 0.8067, Test Acc: 0.7342\n",
            "Epoch: 003, Train Acc: 0.8067, Test Acc: 0.7342\n",
            "Epoch: 004, Train Acc: 0.8067, Test Acc: 0.7342\n",
            "Epoch: 005, Train Acc: 0.8067, Test Acc: 0.7342\n",
            "Epoch: 006, Train Acc: 0.8067, Test Acc: 0.7342\n",
            "Epoch: 007, Train Acc: 0.8067, Test Acc: 0.7342\n",
            "Epoch: 008, Train Acc: 0.8067, Test Acc: 0.7342\n",
            "Epoch: 009, Train Acc: 0.8067, Test Acc: 0.7342\n",
            "Epoch: 010, Train Acc: 0.8067, Test Acc: 0.7342\n",
            "Epoch: 011, Train Acc: 0.8067, Test Acc: 0.7342\n",
            "Epoch: 012, Train Acc: 0.8067, Test Acc: 0.7342\n",
            "Epoch: 013, Train Acc: 0.8067, Test Acc: 0.7342\n",
            "Epoch: 014, Train Acc: 0.8067, Test Acc: 0.7342\n",
            "Epoch: 015, Train Acc: 0.8067, Test Acc: 0.7342\n",
            "Epoch: 016, Train Acc: 0.8067, Test Acc: 0.7342\n",
            "Epoch: 017, Train Acc: 0.8067, Test Acc: 0.7342\n",
            "Epoch: 018, Train Acc: 0.8067, Test Acc: 0.7342\n",
            "Epoch: 019, Train Acc: 0.8067, Test Acc: 0.7342\n",
            "Epoch: 020, Train Acc: 0.8067, Test Acc: 0.7342\n",
            "Epoch: 021, Train Acc: 0.8067, Test Acc: 0.7342\n",
            "Epoch: 022, Train Acc: 0.8067, Test Acc: 0.7342\n",
            "Epoch: 023, Train Acc: 0.8067, Test Acc: 0.7342\n",
            "Epoch: 024, Train Acc: 0.8067, Test Acc: 0.7342\n",
            "Epoch: 025, Train Acc: 0.8067, Test Acc: 0.7342\n",
            "Epoch: 026, Train Acc: 0.8067, Test Acc: 0.7342\n",
            "Epoch: 027, Train Acc: 0.8067, Test Acc: 0.7342\n",
            "Epoch: 028, Train Acc: 0.8067, Test Acc: 0.7342\n",
            "Epoch: 029, Train Acc: 0.8067, Test Acc: 0.7342\n",
            "Epoch: 030, Train Acc: 0.8067, Test Acc: 0.7342\n",
            "Epoch: 031, Train Acc: 0.8067, Test Acc: 0.7342\n",
            "Epoch: 032, Train Acc: 0.8067, Test Acc: 0.7342\n",
            "Epoch: 033, Train Acc: 0.8067, Test Acc: 0.7342\n",
            "Epoch: 034, Train Acc: 0.8067, Test Acc: 0.7342\n",
            "Epoch: 035, Train Acc: 0.8067, Test Acc: 0.7342\n",
            "Epoch: 036, Train Acc: 0.8067, Test Acc: 0.7342\n",
            "Epoch: 037, Train Acc: 0.8067, Test Acc: 0.7342\n",
            "Epoch: 038, Train Acc: 0.8067, Test Acc: 0.7342\n",
            "Epoch: 039, Train Acc: 0.8067, Test Acc: 0.7342\n",
            "Epoch: 040, Train Acc: 0.8100, Test Acc: 0.7342\n",
            "Epoch: 041, Train Acc: 0.8133, Test Acc: 0.7468\n",
            "Epoch: 042, Train Acc: 0.8133, Test Acc: 0.7468\n",
            "Epoch: 043, Train Acc: 0.8100, Test Acc: 0.7342\n",
            "Epoch: 044, Train Acc: 0.8133, Test Acc: 0.7468\n",
            "Epoch: 045, Train Acc: 0.8267, Test Acc: 0.7848\n",
            "Epoch: 046, Train Acc: 0.8100, Test Acc: 0.7342\n",
            "Epoch: 047, Train Acc: 0.8167, Test Acc: 0.7468\n",
            "Epoch: 048, Train Acc: 0.8300, Test Acc: 0.7848\n",
            "Epoch: 049, Train Acc: 0.8167, Test Acc: 0.7468\n",
            "Epoch: 050, Train Acc: 0.8267, Test Acc: 0.7595\n",
            "Epoch: 051, Train Acc: 0.8533, Test Acc: 0.8101\n",
            "Epoch: 052, Train Acc: 0.8433, Test Acc: 0.7975\n",
            "Epoch: 053, Train Acc: 0.8400, Test Acc: 0.7975\n",
            "Epoch: 054, Train Acc: 0.8533, Test Acc: 0.8101\n",
            "Epoch: 055, Train Acc: 0.8500, Test Acc: 0.8101\n",
            "Epoch: 056, Train Acc: 0.8467, Test Acc: 0.7975\n",
            "Epoch: 057, Train Acc: 0.8633, Test Acc: 0.8354\n",
            "Epoch: 058, Train Acc: 0.8433, Test Acc: 0.7975\n",
            "Epoch: 059, Train Acc: 0.8467, Test Acc: 0.8101\n",
            "Epoch: 060, Train Acc: 0.8600, Test Acc: 0.8861\n",
            "Epoch: 061, Train Acc: 0.8400, Test Acc: 0.7975\n",
            "Epoch: 062, Train Acc: 0.8667, Test Acc: 0.8861\n",
            "Epoch: 063, Train Acc: 0.8533, Test Acc: 0.8101\n",
            "Epoch: 064, Train Acc: 0.8633, Test Acc: 0.8608\n",
            "Epoch: 065, Train Acc: 0.8600, Test Acc: 0.8354\n",
            "Epoch: 066, Train Acc: 0.8533, Test Acc: 0.8481\n",
            "Epoch: 067, Train Acc: 0.8667, Test Acc: 0.8861\n",
            "Epoch: 068, Train Acc: 0.8600, Test Acc: 0.8228\n",
            "Epoch: 069, Train Acc: 0.8633, Test Acc: 0.8861\n",
            "Epoch: 070, Train Acc: 0.8600, Test Acc: 0.8481\n",
            "Epoch: 071, Train Acc: 0.8633, Test Acc: 0.8734\n",
            "Epoch: 072, Train Acc: 0.8667, Test Acc: 0.8861\n",
            "Epoch: 073, Train Acc: 0.8633, Test Acc: 0.8734\n",
            "Epoch: 074, Train Acc: 0.8600, Test Acc: 0.8481\n",
            "Epoch: 075, Train Acc: 0.8767, Test Acc: 0.8987\n",
            "Epoch: 076, Train Acc: 0.8600, Test Acc: 0.8481\n",
            "Epoch: 077, Train Acc: 0.8667, Test Acc: 0.8861\n",
            "Epoch: 078, Train Acc: 0.8667, Test Acc: 0.8861\n",
            "Epoch: 079, Train Acc: 0.8733, Test Acc: 0.8861\n",
            "Epoch: 080, Train Acc: 0.8667, Test Acc: 0.8861\n",
            "Epoch: 081, Train Acc: 0.8767, Test Acc: 0.8987\n",
            "Epoch: 082, Train Acc: 0.8633, Test Acc: 0.8354\n",
            "Epoch: 083, Train Acc: 0.8733, Test Acc: 0.8861\n",
            "Epoch: 084, Train Acc: 0.8600, Test Acc: 0.8608\n",
            "Epoch: 085, Train Acc: 0.8767, Test Acc: 0.8861\n",
            "Epoch: 086, Train Acc: 0.8733, Test Acc: 0.8861\n",
            "Epoch: 087, Train Acc: 0.8733, Test Acc: 0.8861\n",
            "Epoch: 088, Train Acc: 0.8733, Test Acc: 0.8861\n",
            "Epoch: 089, Train Acc: 0.8733, Test Acc: 0.8861\n",
            "Epoch: 090, Train Acc: 0.8733, Test Acc: 0.8861\n",
            "Epoch: 091, Train Acc: 0.8733, Test Acc: 0.8861\n",
            "Epoch: 092, Train Acc: 0.8733, Test Acc: 0.8861\n",
            "Epoch: 093, Train Acc: 0.8733, Test Acc: 0.8861\n",
            "Epoch: 094, Train Acc: 0.8733, Test Acc: 0.8861\n",
            "Epoch: 095, Train Acc: 0.8733, Test Acc: 0.8861\n",
            "Epoch: 096, Train Acc: 0.8833, Test Acc: 0.8861\n",
            "Epoch: 097, Train Acc: 0.8767, Test Acc: 0.8861\n",
            "Epoch: 098, Train Acc: 0.8800, Test Acc: 0.8861\n",
            "Epoch: 099, Train Acc: 0.8767, Test Acc: 0.8861\n"
          ],
          "name": "stdout"
        }
      ]
    },
    {
      "cell_type": "code",
      "metadata": {
        "id": "TizuAt8s1hIV",
        "colab": {
          "base_uri": "https://localhost:8080/"
        },
        "outputId": "34d8c3ab-5244-45f6-ff0e-b77aabf527bb"
      },
      "source": [
        "for epoch in range(1, 100):\n",
        "    train()\n",
        "    train_acc = test(train_loader)\n",
        "    test_acc = test(test_loader)\n",
        "    print(f'Epoch: {epoch:03d}, Train Acc: {train_acc:.4f}, Test Acc: {test_acc:.4f}')"
      ],
      "execution_count": 36,
      "outputs": [
        {
          "output_type": "stream",
          "name": "stdout",
          "text": [
            "Epoch: 001, Train Acc: 0.8000, Test Acc: 0.7595\n",
            "Epoch: 002, Train Acc: 0.8000, Test Acc: 0.7595\n",
            "Epoch: 003, Train Acc: 0.8000, Test Acc: 0.7595\n",
            "Epoch: 004, Train Acc: 0.8000, Test Acc: 0.7595\n",
            "Epoch: 005, Train Acc: 0.8000, Test Acc: 0.7595\n",
            "Epoch: 006, Train Acc: 0.8000, Test Acc: 0.7595\n",
            "Epoch: 007, Train Acc: 0.8000, Test Acc: 0.7595\n",
            "Epoch: 008, Train Acc: 0.8000, Test Acc: 0.7595\n",
            "Epoch: 009, Train Acc: 0.8000, Test Acc: 0.7595\n",
            "Epoch: 010, Train Acc: 0.8000, Test Acc: 0.7595\n",
            "Epoch: 011, Train Acc: 0.8000, Test Acc: 0.7595\n",
            "Epoch: 012, Train Acc: 0.8000, Test Acc: 0.7595\n",
            "Epoch: 013, Train Acc: 0.8000, Test Acc: 0.7595\n",
            "Epoch: 014, Train Acc: 0.8000, Test Acc: 0.7595\n",
            "Epoch: 015, Train Acc: 0.8000, Test Acc: 0.7595\n",
            "Epoch: 016, Train Acc: 0.8000, Test Acc: 0.7595\n",
            "Epoch: 017, Train Acc: 0.8000, Test Acc: 0.7595\n",
            "Epoch: 018, Train Acc: 0.8000, Test Acc: 0.7595\n",
            "Epoch: 019, Train Acc: 0.8033, Test Acc: 0.7595\n",
            "Epoch: 020, Train Acc: 0.8067, Test Acc: 0.7595\n",
            "Epoch: 021, Train Acc: 0.8100, Test Acc: 0.7595\n",
            "Epoch: 022, Train Acc: 0.8133, Test Acc: 0.7595\n",
            "Epoch: 023, Train Acc: 0.8400, Test Acc: 0.7975\n",
            "Epoch: 024, Train Acc: 0.8467, Test Acc: 0.8101\n",
            "Epoch: 025, Train Acc: 0.8600, Test Acc: 0.8354\n",
            "Epoch: 026, Train Acc: 0.8733, Test Acc: 0.8481\n",
            "Epoch: 027, Train Acc: 0.8500, Test Acc: 0.8101\n",
            "Epoch: 028, Train Acc: 0.8633, Test Acc: 0.8354\n",
            "Epoch: 029, Train Acc: 0.8567, Test Acc: 0.8101\n",
            "Epoch: 030, Train Acc: 0.8667, Test Acc: 0.8734\n",
            "Epoch: 031, Train Acc: 0.8700, Test Acc: 0.8354\n",
            "Epoch: 032, Train Acc: 0.8633, Test Acc: 0.8354\n",
            "Epoch: 033, Train Acc: 0.8700, Test Acc: 0.8354\n",
            "Epoch: 034, Train Acc: 0.8767, Test Acc: 0.8734\n",
            "Epoch: 035, Train Acc: 0.8900, Test Acc: 0.8481\n",
            "Epoch: 036, Train Acc: 0.8900, Test Acc: 0.8481\n",
            "Epoch: 037, Train Acc: 0.8667, Test Acc: 0.8481\n",
            "Epoch: 038, Train Acc: 0.8767, Test Acc: 0.8608\n",
            "Epoch: 039, Train Acc: 0.8700, Test Acc: 0.8354\n",
            "Epoch: 040, Train Acc: 0.8733, Test Acc: 0.8734\n",
            "Epoch: 041, Train Acc: 0.8867, Test Acc: 0.8354\n",
            "Epoch: 042, Train Acc: 0.8767, Test Acc: 0.8734\n",
            "Epoch: 043, Train Acc: 0.8900, Test Acc: 0.8608\n",
            "Epoch: 044, Train Acc: 0.8833, Test Acc: 0.8228\n",
            "Epoch: 045, Train Acc: 0.8967, Test Acc: 0.8608\n",
            "Epoch: 046, Train Acc: 0.9000, Test Acc: 0.8608\n",
            "Epoch: 047, Train Acc: 0.8867, Test Acc: 0.8608\n",
            "Epoch: 048, Train Acc: 0.8900, Test Acc: 0.8354\n",
            "Epoch: 049, Train Acc: 0.8867, Test Acc: 0.8734\n",
            "Epoch: 050, Train Acc: 0.8800, Test Acc: 0.8354\n",
            "Epoch: 051, Train Acc: 0.8833, Test Acc: 0.8734\n",
            "Epoch: 052, Train Acc: 0.8800, Test Acc: 0.8354\n",
            "Epoch: 053, Train Acc: 0.8800, Test Acc: 0.8734\n",
            "Epoch: 054, Train Acc: 0.8967, Test Acc: 0.8608\n",
            "Epoch: 055, Train Acc: 0.8967, Test Acc: 0.8608\n",
            "Epoch: 056, Train Acc: 0.8933, Test Acc: 0.8734\n",
            "Epoch: 057, Train Acc: 0.8867, Test Acc: 0.8481\n",
            "Epoch: 058, Train Acc: 0.8967, Test Acc: 0.8734\n",
            "Epoch: 059, Train Acc: 0.9000, Test Acc: 0.8608\n",
            "Epoch: 060, Train Acc: 0.9033, Test Acc: 0.8608\n",
            "Epoch: 061, Train Acc: 0.8967, Test Acc: 0.8734\n",
            "Epoch: 062, Train Acc: 0.9000, Test Acc: 0.8608\n",
            "Epoch: 063, Train Acc: 0.8733, Test Acc: 0.8734\n",
            "Epoch: 064, Train Acc: 0.8967, Test Acc: 0.8608\n",
            "Epoch: 065, Train Acc: 0.8933, Test Acc: 0.8608\n",
            "Epoch: 066, Train Acc: 0.9000, Test Acc: 0.8734\n",
            "Epoch: 067, Train Acc: 0.8867, Test Acc: 0.8354\n",
            "Epoch: 068, Train Acc: 0.9033, Test Acc: 0.8734\n",
            "Epoch: 069, Train Acc: 0.9000, Test Acc: 0.8608\n",
            "Epoch: 070, Train Acc: 0.8900, Test Acc: 0.8861\n",
            "Epoch: 071, Train Acc: 0.8733, Test Acc: 0.8228\n",
            "Epoch: 072, Train Acc: 0.9000, Test Acc: 0.8608\n",
            "Epoch: 073, Train Acc: 0.8933, Test Acc: 0.8481\n",
            "Epoch: 074, Train Acc: 0.8900, Test Acc: 0.8481\n",
            "Epoch: 075, Train Acc: 0.9033, Test Acc: 0.8608\n",
            "Epoch: 076, Train Acc: 0.8833, Test Acc: 0.8354\n",
            "Epoch: 077, Train Acc: 0.8867, Test Acc: 0.8734\n",
            "Epoch: 078, Train Acc: 0.9000, Test Acc: 0.8608\n",
            "Epoch: 079, Train Acc: 0.9067, Test Acc: 0.8608\n",
            "Epoch: 080, Train Acc: 0.9033, Test Acc: 0.8734\n",
            "Epoch: 081, Train Acc: 0.9000, Test Acc: 0.8608\n",
            "Epoch: 082, Train Acc: 0.9033, Test Acc: 0.8734\n",
            "Epoch: 083, Train Acc: 0.9033, Test Acc: 0.8608\n",
            "Epoch: 084, Train Acc: 0.9033, Test Acc: 0.8608\n",
            "Epoch: 085, Train Acc: 0.8967, Test Acc: 0.8608\n",
            "Epoch: 086, Train Acc: 0.9067, Test Acc: 0.8608\n",
            "Epoch: 087, Train Acc: 0.9067, Test Acc: 0.8734\n",
            "Epoch: 088, Train Acc: 0.9000, Test Acc: 0.8734\n",
            "Epoch: 089, Train Acc: 0.9100, Test Acc: 0.8734\n",
            "Epoch: 090, Train Acc: 0.9100, Test Acc: 0.8734\n",
            "Epoch: 091, Train Acc: 0.9067, Test Acc: 0.8734\n",
            "Epoch: 092, Train Acc: 0.9100, Test Acc: 0.8734\n",
            "Epoch: 093, Train Acc: 0.9133, Test Acc: 0.8608\n",
            "Epoch: 094, Train Acc: 0.9067, Test Acc: 0.8734\n",
            "Epoch: 095, Train Acc: 0.9067, Test Acc: 0.8734\n",
            "Epoch: 096, Train Acc: 0.8967, Test Acc: 0.8861\n",
            "Epoch: 097, Train Acc: 0.8967, Test Acc: 0.8608\n",
            "Epoch: 098, Train Acc: 0.8967, Test Acc: 0.8734\n",
            "Epoch: 099, Train Acc: 0.9100, Test Acc: 0.8481\n"
          ]
        }
      ]
    },
    {
      "cell_type": "code",
      "source": [],
      "metadata": {
        "id": "Wu2_7zI8IAdu"
      },
      "execution_count": null,
      "outputs": []
    }
  ]
}